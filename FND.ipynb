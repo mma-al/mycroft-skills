{
  "nbformat": 4,
  "nbformat_minor": 0,
  "metadata": {
    "colab": {
      "name": "FND.ipynb",
      "provenance": [],
      "toc_visible": true,
      "authorship_tag": "ABX9TyNcgSkrEuzNbSEw0XeP2gkq",
      "include_colab_link": true
    },
    "kernelspec": {
      "name": "python3",
      "display_name": "Python 3"
    },
    "language_info": {
      "name": "python"
    },
    "accelerator": "GPU"
  },
  "cells": [
    {
      "cell_type": "markdown",
      "metadata": {
        "id": "view-in-github",
        "colab_type": "text"
      },
      "source": [
        "<a href=\"https://colab.research.google.com/github/mma-al/mycroft-skills/blob/17.08-and-older/FND.ipynb\" target=\"_parent\"><img src=\"https://colab.research.google.com/assets/colab-badge.svg\" alt=\"Open In Colab\"/></a>"
      ]
    },
    {
      "cell_type": "code",
      "metadata": {
        "id": "F30zXyeWrQYk"
      },
      "source": [
        "#libraries for loading nad cleaning data\n",
        "import pandas as pd\n",
        "import re\n",
        "#library to read data from google drive\n",
        "from google.colab import drive\n",
        "drive.mount('/content/drive')\n",
        "# to display drive contents ==> !ls \"/content/drive/MyDrive\"\n",
        "# to split the data and later to calculate metrics for the model\n",
        "import sklearn\n",
        "from sklearn.model_selection import train_test_split\n",
        "!pip install transformers\n",
        "import transformers\n",
        "import tokenizers\n",
        "import torch\n",
        "import torch.nn\n",
        "import torch.optim \n",
        "!pip install git+https://github.com/PytorchLightning/pytorch-lightning.git@master --upgrade\n",
        "import pytorch_lightning as pl\n"
      ],
      "execution_count": null,
      "outputs": []
    },
    {
      "cell_type": "code",
      "metadata": {
        "id": "-j3SVGQa5DDQ"
      },
      "source": [
        "data_fake=pd.read_csv('/content/drive/MyDrive/Khilnani_LP_fake_news.csv')"
      ],
      "execution_count": 4,
      "outputs": []
    },
    {
      "cell_type": "code",
      "metadata": {
        "id": "-ycE78l1HunF"
      },
      "source": [
        "data_real=pd.read_csv('/content/drive/MyDrive/Khilnani_LP_real_news.csv')"
      ],
      "execution_count": 5,
      "outputs": []
    },
    {
      "cell_type": "code",
      "metadata": {
        "id": "Q3iIdKNmreqr"
      },
      "source": [
        "data_fake[\"label\"] = 1\n",
        "data_real[\"label\"] = 0"
      ],
      "execution_count": 7,
      "outputs": []
    },
    {
      "cell_type": "code",
      "metadata": {
        "id": "i-eDXq3_uzIw"
      },
      "source": [
        "# concatenating real and fake along rows\n",
        "data = pd.concat([data_fake, data_real], axis=0)"
      ],
      "execution_count": 12,
      "outputs": []
    },
    {
      "cell_type": "code",
      "metadata": {
        "id": "ZpC2GB27vYCR"
      },
      "source": [
        "# display (vertical_concat)"
      ],
      "execution_count": null,
      "outputs": []
    },
    {
      "cell_type": "code",
      "metadata": {
        "id": "jzNp3Chuv5Ar"
      },
      "source": [
        "data = data.sample(frac=1).reset_index(drop=True)"
      ],
      "execution_count": 13,
      "outputs": []
    },
    {
      "cell_type": "code",
      "metadata": {
        "id": "OflE51KbwMca"
      },
      "source": [
        "data = data[[\"text\", \"label\"]]\n",
        "data.head()"
      ],
      "execution_count": null,
      "outputs": []
    },
    {
      "cell_type": "code",
      "metadata": {
        "id": "RiCQMOjpwYMs"
      },
      "source": [
        "import nltk\n"
      ],
      "execution_count": 17,
      "outputs": []
    },
    {
      "cell_type": "code",
      "metadata": {
        "id": "D9tqGeJFxA3L"
      },
      "source": [
        "nltk.download(\"stopwords\")\n",
        "def clean_text(text):\n",
        "  stopwords = nltk.corpus.stopwords.words('english')\n",
        "  text = text.lower() # Convert to lower case\n",
        "  text = re.sub(r'[^\\w\\s]', '', text) # Remove everything except words\n",
        "  words = [word for word in text.split() if word not in stopwords] # Remove stopwords\n",
        "  text = \" \".join(words)\n",
        "  return text"
      ],
      "execution_count": null,
      "outputs": []
    },
    {
      "cell_type": "code",
      "metadata": {
        "id": "B-dw4gf0xbIS"
      },
      "source": [
        "data[\"text\"] = data[\"text\"].apply(clean_text)"
      ],
      "execution_count": 19,
      "outputs": []
    },
    {
      "cell_type": "code",
      "metadata": {
        "id": "KrLzpakmxwsA"
      },
      "source": [
        "x = data[\"text\"].values\n",
        "y = data[\"label\"].values\n",
        "\n",
        "# Split into training and validation sets\n",
        "\n",
        "train_data, val_data, train_labels, val_labels = train_test_split(x, y)"
      ],
      "execution_count": 22,
      "outputs": []
    }
  ]
}